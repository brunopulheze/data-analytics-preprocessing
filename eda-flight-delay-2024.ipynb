{
 "cells": [
  {
   "cell_type": "markdown",
   "id": "5e858e99",
   "metadata": {},
   "source": [
    "Flight delays can be caused by a variety of factors, including weather, air traffic control issues, and mechanical problems. <br>Understanding these factors is crucial for developing strategies to mitigate delays and improve overall efficiency in air travel."
   ]
  },
  {
   "cell_type": "markdown",
   "id": "b6fd63eb",
   "metadata": {},
   "source": [
    "Import the necessary libraries:"
   ]
  },
  {
   "cell_type": "code",
   "execution_count": 1,
   "id": "e4228934",
   "metadata": {},
   "outputs": [],
   "source": [
    "import pandas as pd\n",
    "import numpy as np\n",
    "import matplotlib.pyplot as plt\n",
    "import seaborn as sns\n",
    "import time\n",
    "from scipy.stats import f_oneway\n",
    "from scipy.stats import ttest_ind\n",
    "from sklearn.linear_model import LinearRegression\n",
    "pd.set_option('display.max_columns', None)"
   ]
  },
  {
   "cell_type": "markdown",
   "id": "4a1c6efa",
   "metadata": {},
   "source": [
    "Read the dataset:"
   ]
  },
  {
   "cell_type": "code",
   "execution_count": 2,
   "id": "754b416e",
   "metadata": {},
   "outputs": [],
   "source": [
    "df = pd.read_csv('./flight_data_2024_sample.csv')"
   ]
  },
  {
   "cell_type": "markdown",
   "id": "32c1d53d",
   "metadata": {},
   "source": [
    "# Data Wrangling and Cleaning"
   ]
  },
  {
   "cell_type": "code",
   "execution_count": 3,
   "id": "b9390a90",
   "metadata": {},
   "outputs": [
    {
     "data": {
      "text/html": [
       "<div>\n",
       "<style scoped>\n",
       "    .dataframe tbody tr th:only-of-type {\n",
       "        vertical-align: middle;\n",
       "    }\n",
       "\n",
       "    .dataframe tbody tr th {\n",
       "        vertical-align: top;\n",
       "    }\n",
       "\n",
       "    .dataframe thead th {\n",
       "        text-align: right;\n",
       "    }\n",
       "</style>\n",
       "<table border=\"1\" class=\"dataframe\">\n",
       "  <thead>\n",
       "    <tr style=\"text-align: right;\">\n",
       "      <th></th>\n",
       "      <th>year</th>\n",
       "      <th>month</th>\n",
       "      <th>day_of_month</th>\n",
       "      <th>day_of_week</th>\n",
       "      <th>fl_date</th>\n",
       "      <th>op_unique_carrier</th>\n",
       "      <th>op_carrier_fl_num</th>\n",
       "      <th>origin</th>\n",
       "      <th>origin_city_name</th>\n",
       "      <th>origin_state_nm</th>\n",
       "      <th>dest</th>\n",
       "      <th>dest_city_name</th>\n",
       "      <th>dest_state_nm</th>\n",
       "      <th>crs_dep_time</th>\n",
       "      <th>dep_time</th>\n",
       "      <th>dep_delay</th>\n",
       "      <th>taxi_out</th>\n",
       "      <th>wheels_off</th>\n",
       "      <th>wheels_on</th>\n",
       "      <th>taxi_in</th>\n",
       "      <th>crs_arr_time</th>\n",
       "      <th>arr_time</th>\n",
       "      <th>arr_delay</th>\n",
       "      <th>cancelled</th>\n",
       "      <th>cancellation_code</th>\n",
       "      <th>diverted</th>\n",
       "      <th>crs_elapsed_time</th>\n",
       "      <th>actual_elapsed_time</th>\n",
       "      <th>air_time</th>\n",
       "      <th>distance</th>\n",
       "      <th>carrier_delay</th>\n",
       "      <th>weather_delay</th>\n",
       "      <th>nas_delay</th>\n",
       "      <th>security_delay</th>\n",
       "      <th>late_aircraft_delay</th>\n",
       "    </tr>\n",
       "  </thead>\n",
       "  <tbody>\n",
       "    <tr>\n",
       "      <th>0</th>\n",
       "      <td>2024</td>\n",
       "      <td>4</td>\n",
       "      <td>18</td>\n",
       "      <td>4</td>\n",
       "      <td>2024-04-18</td>\n",
       "      <td>MQ</td>\n",
       "      <td>3535.0</td>\n",
       "      <td>DFW</td>\n",
       "      <td>Dallas/Fort Worth, TX</td>\n",
       "      <td>Texas</td>\n",
       "      <td>RAP</td>\n",
       "      <td>Rapid City, SD</td>\n",
       "      <td>South Dakota</td>\n",
       "      <td>1018</td>\n",
       "      <td>1015.0</td>\n",
       "      <td>-3.0</td>\n",
       "      <td>21.0</td>\n",
       "      <td>1036.0</td>\n",
       "      <td>1135.0</td>\n",
       "      <td>4.0</td>\n",
       "      <td>1149</td>\n",
       "      <td>1139.0</td>\n",
       "      <td>-10.0</td>\n",
       "      <td>0</td>\n",
       "      <td>NaN</td>\n",
       "      <td>0</td>\n",
       "      <td>151.0</td>\n",
       "      <td>144.0</td>\n",
       "      <td>119.0</td>\n",
       "      <td>835.0</td>\n",
       "      <td>0</td>\n",
       "      <td>0</td>\n",
       "      <td>0</td>\n",
       "      <td>0</td>\n",
       "      <td>0</td>\n",
       "    </tr>\n",
       "    <tr>\n",
       "      <th>1</th>\n",
       "      <td>2024</td>\n",
       "      <td>1</td>\n",
       "      <td>1</td>\n",
       "      <td>1</td>\n",
       "      <td>2024-01-01</td>\n",
       "      <td>AA</td>\n",
       "      <td>148.0</td>\n",
       "      <td>CLT</td>\n",
       "      <td>Charlotte, NC</td>\n",
       "      <td>North Carolina</td>\n",
       "      <td>PHX</td>\n",
       "      <td>Phoenix, AZ</td>\n",
       "      <td>Arizona</td>\n",
       "      <td>1637</td>\n",
       "      <td>1633.0</td>\n",
       "      <td>-4.0</td>\n",
       "      <td>14.0</td>\n",
       "      <td>1647.0</td>\n",
       "      <td>1900.0</td>\n",
       "      <td>6.0</td>\n",
       "      <td>1923</td>\n",
       "      <td>1906.0</td>\n",
       "      <td>-17.0</td>\n",
       "      <td>0</td>\n",
       "      <td>NaN</td>\n",
       "      <td>0</td>\n",
       "      <td>286.0</td>\n",
       "      <td>273.0</td>\n",
       "      <td>253.0</td>\n",
       "      <td>1773.0</td>\n",
       "      <td>0</td>\n",
       "      <td>0</td>\n",
       "      <td>0</td>\n",
       "      <td>0</td>\n",
       "      <td>0</td>\n",
       "    </tr>\n",
       "    <tr>\n",
       "      <th>2</th>\n",
       "      <td>2024</td>\n",
       "      <td>12</td>\n",
       "      <td>12</td>\n",
       "      <td>4</td>\n",
       "      <td>2024-12-12</td>\n",
       "      <td>9E</td>\n",
       "      <td>5440.0</td>\n",
       "      <td>CHA</td>\n",
       "      <td>Chattanooga, TN</td>\n",
       "      <td>Tennessee</td>\n",
       "      <td>ATL</td>\n",
       "      <td>Atlanta, GA</td>\n",
       "      <td>Georgia</td>\n",
       "      <td>1000</td>\n",
       "      <td>952.0</td>\n",
       "      <td>-8.0</td>\n",
       "      <td>13.0</td>\n",
       "      <td>1005.0</td>\n",
       "      <td>1034.0</td>\n",
       "      <td>8.0</td>\n",
       "      <td>1059</td>\n",
       "      <td>1042.0</td>\n",
       "      <td>-17.0</td>\n",
       "      <td>0</td>\n",
       "      <td>NaN</td>\n",
       "      <td>0</td>\n",
       "      <td>59.0</td>\n",
       "      <td>50.0</td>\n",
       "      <td>29.0</td>\n",
       "      <td>106.0</td>\n",
       "      <td>0</td>\n",
       "      <td>0</td>\n",
       "      <td>0</td>\n",
       "      <td>0</td>\n",
       "      <td>0</td>\n",
       "    </tr>\n",
       "    <tr>\n",
       "      <th>3</th>\n",
       "      <td>2024</td>\n",
       "      <td>4</td>\n",
       "      <td>8</td>\n",
       "      <td>1</td>\n",
       "      <td>2024-04-08</td>\n",
       "      <td>WN</td>\n",
       "      <td>1971.0</td>\n",
       "      <td>OMA</td>\n",
       "      <td>Omaha, NE</td>\n",
       "      <td>Nebraska</td>\n",
       "      <td>LAS</td>\n",
       "      <td>Las Vegas, NV</td>\n",
       "      <td>Nevada</td>\n",
       "      <td>1330</td>\n",
       "      <td>1334.0</td>\n",
       "      <td>4.0</td>\n",
       "      <td>8.0</td>\n",
       "      <td>1342.0</td>\n",
       "      <td>1425.0</td>\n",
       "      <td>6.0</td>\n",
       "      <td>1430</td>\n",
       "      <td>1431.0</td>\n",
       "      <td>1.0</td>\n",
       "      <td>0</td>\n",
       "      <td>NaN</td>\n",
       "      <td>0</td>\n",
       "      <td>180.0</td>\n",
       "      <td>177.0</td>\n",
       "      <td>163.0</td>\n",
       "      <td>1099.0</td>\n",
       "      <td>0</td>\n",
       "      <td>0</td>\n",
       "      <td>0</td>\n",
       "      <td>0</td>\n",
       "      <td>0</td>\n",
       "    </tr>\n",
       "    <tr>\n",
       "      <th>4</th>\n",
       "      <td>2024</td>\n",
       "      <td>2</td>\n",
       "      <td>16</td>\n",
       "      <td>5</td>\n",
       "      <td>2024-02-16</td>\n",
       "      <td>WN</td>\n",
       "      <td>862.0</td>\n",
       "      <td>BWI</td>\n",
       "      <td>Baltimore, MD</td>\n",
       "      <td>Maryland</td>\n",
       "      <td>MYR</td>\n",
       "      <td>Myrtle Beach, SC</td>\n",
       "      <td>South Carolina</td>\n",
       "      <td>1340</td>\n",
       "      <td>1333.0</td>\n",
       "      <td>-7.0</td>\n",
       "      <td>16.0</td>\n",
       "      <td>1349.0</td>\n",
       "      <td>1505.0</td>\n",
       "      <td>4.0</td>\n",
       "      <td>1510</td>\n",
       "      <td>1509.0</td>\n",
       "      <td>-1.0</td>\n",
       "      <td>0</td>\n",
       "      <td>NaN</td>\n",
       "      <td>0</td>\n",
       "      <td>90.0</td>\n",
       "      <td>96.0</td>\n",
       "      <td>76.0</td>\n",
       "      <td>399.0</td>\n",
       "      <td>0</td>\n",
       "      <td>0</td>\n",
       "      <td>0</td>\n",
       "      <td>0</td>\n",
       "      <td>0</td>\n",
       "    </tr>\n",
       "  </tbody>\n",
       "</table>\n",
       "</div>"
      ],
      "text/plain": [
       "   year  month  day_of_month  day_of_week     fl_date op_unique_carrier  \\\n",
       "0  2024      4            18            4  2024-04-18                MQ   \n",
       "1  2024      1             1            1  2024-01-01                AA   \n",
       "2  2024     12            12            4  2024-12-12                9E   \n",
       "3  2024      4             8            1  2024-04-08                WN   \n",
       "4  2024      2            16            5  2024-02-16                WN   \n",
       "\n",
       "   op_carrier_fl_num origin       origin_city_name origin_state_nm dest  \\\n",
       "0             3535.0    DFW  Dallas/Fort Worth, TX           Texas  RAP   \n",
       "1              148.0    CLT          Charlotte, NC  North Carolina  PHX   \n",
       "2             5440.0    CHA        Chattanooga, TN       Tennessee  ATL   \n",
       "3             1971.0    OMA              Omaha, NE        Nebraska  LAS   \n",
       "4              862.0    BWI          Baltimore, MD        Maryland  MYR   \n",
       "\n",
       "     dest_city_name   dest_state_nm  crs_dep_time  dep_time  dep_delay  \\\n",
       "0    Rapid City, SD    South Dakota          1018    1015.0       -3.0   \n",
       "1       Phoenix, AZ         Arizona          1637    1633.0       -4.0   \n",
       "2       Atlanta, GA         Georgia          1000     952.0       -8.0   \n",
       "3     Las Vegas, NV          Nevada          1330    1334.0        4.0   \n",
       "4  Myrtle Beach, SC  South Carolina          1340    1333.0       -7.0   \n",
       "\n",
       "   taxi_out  wheels_off  wheels_on  taxi_in  crs_arr_time  arr_time  \\\n",
       "0      21.0      1036.0     1135.0      4.0          1149    1139.0   \n",
       "1      14.0      1647.0     1900.0      6.0          1923    1906.0   \n",
       "2      13.0      1005.0     1034.0      8.0          1059    1042.0   \n",
       "3       8.0      1342.0     1425.0      6.0          1430    1431.0   \n",
       "4      16.0      1349.0     1505.0      4.0          1510    1509.0   \n",
       "\n",
       "   arr_delay  cancelled cancellation_code  diverted  crs_elapsed_time  \\\n",
       "0      -10.0          0               NaN         0             151.0   \n",
       "1      -17.0          0               NaN         0             286.0   \n",
       "2      -17.0          0               NaN         0              59.0   \n",
       "3        1.0          0               NaN         0             180.0   \n",
       "4       -1.0          0               NaN         0              90.0   \n",
       "\n",
       "   actual_elapsed_time  air_time  distance  carrier_delay  weather_delay  \\\n",
       "0                144.0     119.0     835.0              0              0   \n",
       "1                273.0     253.0    1773.0              0              0   \n",
       "2                 50.0      29.0     106.0              0              0   \n",
       "3                177.0     163.0    1099.0              0              0   \n",
       "4                 96.0      76.0     399.0              0              0   \n",
       "\n",
       "   nas_delay  security_delay  late_aircraft_delay  \n",
       "0          0               0                    0  \n",
       "1          0               0                    0  \n",
       "2          0               0                    0  \n",
       "3          0               0                    0  \n",
       "4          0               0                    0  "
      ]
     },
     "execution_count": 3,
     "metadata": {},
     "output_type": "execute_result"
    }
   ],
   "source": [
    "df.head()"
   ]
  },
  {
   "cell_type": "code",
   "execution_count": 4,
   "id": "7021913c",
   "metadata": {},
   "outputs": [
    {
     "name": "stdout",
     "output_type": "stream",
     "text": [
      "<class 'pandas.core.frame.DataFrame'>\n",
      "RangeIndex: 10000 entries, 0 to 9999\n",
      "Data columns (total 35 columns):\n",
      " #   Column               Non-Null Count  Dtype  \n",
      "---  ------               --------------  -----  \n",
      " 0   year                 10000 non-null  int64  \n",
      " 1   month                10000 non-null  int64  \n",
      " 2   day_of_month         10000 non-null  int64  \n",
      " 3   day_of_week          10000 non-null  int64  \n",
      " 4   fl_date              10000 non-null  object \n",
      " 5   op_unique_carrier    10000 non-null  object \n",
      " 6   op_carrier_fl_num    10000 non-null  float64\n",
      " 7   origin               10000 non-null  object \n",
      " 8   origin_city_name     10000 non-null  object \n",
      " 9   origin_state_nm      10000 non-null  object \n",
      " 10  dest                 10000 non-null  object \n",
      " 11  dest_city_name       10000 non-null  object \n",
      " 12  dest_state_nm        10000 non-null  object \n",
      " 13  crs_dep_time         10000 non-null  int64  \n",
      " 14  dep_time             9884 non-null   float64\n",
      " 15  dep_delay            9884 non-null   float64\n",
      " 16  taxi_out             9880 non-null   float64\n",
      " 17  wheels_off           9880 non-null   float64\n",
      " 18  wheels_on            9873 non-null   float64\n",
      " 19  taxi_in              9873 non-null   float64\n",
      " 20  crs_arr_time         10000 non-null  int64  \n",
      " 21  arr_time             9873 non-null   float64\n",
      " 22  arr_delay            9836 non-null   float64\n",
      " 23  cancelled            10000 non-null  int64  \n",
      " 24  cancellation_code    122 non-null    object \n",
      " 25  diverted             10000 non-null  int64  \n",
      " 26  crs_elapsed_time     10000 non-null  float64\n",
      " 27  actual_elapsed_time  9836 non-null   float64\n",
      " 28  air_time             9836 non-null   float64\n",
      " 29  distance             10000 non-null  float64\n",
      " 30  carrier_delay        10000 non-null  int64  \n",
      " 31  weather_delay        10000 non-null  int64  \n",
      " 32  nas_delay            10000 non-null  int64  \n",
      " 33  security_delay       10000 non-null  int64  \n",
      " 34  late_aircraft_delay  10000 non-null  int64  \n",
      "dtypes: float64(13), int64(13), object(9)\n",
      "memory usage: 2.7+ MB\n"
     ]
    }
   ],
   "source": [
    "df.info()"
   ]
  },
  {
   "cell_type": "code",
   "execution_count": 5,
   "id": "454cd801",
   "metadata": {},
   "outputs": [
    {
     "data": {
      "text/plain": [
       "year                      0\n",
       "month                     0\n",
       "day_of_month              0\n",
       "day_of_week               0\n",
       "fl_date                   0\n",
       "op_unique_carrier         0\n",
       "op_carrier_fl_num         0\n",
       "origin                    0\n",
       "origin_city_name          0\n",
       "origin_state_nm           0\n",
       "dest                      0\n",
       "dest_city_name            0\n",
       "dest_state_nm             0\n",
       "crs_dep_time              0\n",
       "dep_time                116\n",
       "dep_delay               116\n",
       "taxi_out                120\n",
       "wheels_off              120\n",
       "wheels_on               127\n",
       "taxi_in                 127\n",
       "crs_arr_time              0\n",
       "arr_time                127\n",
       "arr_delay               164\n",
       "cancelled                 0\n",
       "cancellation_code      9878\n",
       "diverted                  0\n",
       "crs_elapsed_time          0\n",
       "actual_elapsed_time     164\n",
       "air_time                164\n",
       "distance                  0\n",
       "carrier_delay             0\n",
       "weather_delay             0\n",
       "nas_delay                 0\n",
       "security_delay            0\n",
       "late_aircraft_delay       0\n",
       "dtype: int64"
      ]
     },
     "execution_count": 5,
     "metadata": {},
     "output_type": "execute_result"
    }
   ],
   "source": [
    "df.isnull().sum()"
   ]
  },
  {
   "cell_type": "markdown",
   "id": "9e4d0c59",
   "metadata": {},
   "source": [
    "Drop the nulls from the dataset:"
   ]
  },
  {
   "cell_type": "code",
   "execution_count": 6,
   "id": "5bd21bfc",
   "metadata": {},
   "outputs": [],
   "source": [
    "df_cleaned = df.fillna(0)\n"
   ]
  },
  {
   "cell_type": "code",
   "execution_count": 7,
   "id": "b8991958",
   "metadata": {},
   "outputs": [
    {
     "data": {
      "text/plain": [
       "year                   0\n",
       "month                  0\n",
       "day_of_month           0\n",
       "day_of_week            0\n",
       "fl_date                0\n",
       "op_unique_carrier      0\n",
       "op_carrier_fl_num      0\n",
       "origin                 0\n",
       "origin_city_name       0\n",
       "origin_state_nm        0\n",
       "dest                   0\n",
       "dest_city_name         0\n",
       "dest_state_nm          0\n",
       "crs_dep_time           0\n",
       "dep_time               0\n",
       "dep_delay              0\n",
       "taxi_out               0\n",
       "wheels_off             0\n",
       "wheels_on              0\n",
       "taxi_in                0\n",
       "crs_arr_time           0\n",
       "arr_time               0\n",
       "arr_delay              0\n",
       "cancelled              0\n",
       "cancellation_code      0\n",
       "diverted               0\n",
       "crs_elapsed_time       0\n",
       "actual_elapsed_time    0\n",
       "air_time               0\n",
       "distance               0\n",
       "carrier_delay          0\n",
       "weather_delay          0\n",
       "nas_delay              0\n",
       "security_delay         0\n",
       "late_aircraft_delay    0\n",
       "dtype: int64"
      ]
     },
     "execution_count": 7,
     "metadata": {},
     "output_type": "execute_result"
    }
   ],
   "source": [
    "df_cleaned.isnull().sum()"
   ]
  },
  {
   "cell_type": "code",
   "execution_count": 8,
   "id": "6b12908c",
   "metadata": {},
   "outputs": [],
   "source": [
    "df_cleaned = df_cleaned.drop_duplicates()"
   ]
  },
  {
   "cell_type": "markdown",
   "id": "7d6dab5c",
   "metadata": {},
   "source": [
    "Create a new column with the names of the days of the week:"
   ]
  },
  {
   "cell_type": "code",
   "execution_count": 9,
   "id": "2170d430",
   "metadata": {},
   "outputs": [],
   "source": [
    "day_mapping = {1: 'Monday', 2: 'Tuesday', 3: 'Wednesday', 4: 'Thursday', 5: 'Friday', 6: 'Saturday', 7: 'Sunday'}\n",
    "df_cleaned['day'] = df_cleaned['day_of_week'].map(day_mapping)"
   ]
  },
  {
   "cell_type": "markdown",
   "id": "d57ea0a7",
   "metadata": {},
   "source": [
    "Create a new column with the month name:\n"
   ]
  },
  {
   "cell_type": "code",
   "execution_count": 10,
   "id": "8abed5fc",
   "metadata": {},
   "outputs": [],
   "source": [
    "month_mapping = {1: 'January', 2: 'February', 3: 'March', 4: 'April', 5: 'May', 6: 'June', \n",
    "                7: 'July', 8: 'August', 9: 'September', 10: 'October', 11: 'November', 12: 'December'}\n",
    "df_cleaned['month_name'] = df_cleaned['month'].map(month_mapping)"
   ]
  },
  {
   "cell_type": "code",
   "execution_count": 11,
   "id": "6bcd51e8",
   "metadata": {},
   "outputs": [
    {
     "data": {
      "text/plain": [
       "(10000, 37)"
      ]
     },
     "execution_count": 11,
     "metadata": {},
     "output_type": "execute_result"
    }
   ],
   "source": [
    "df_cleaned.shape"
   ]
  },
  {
   "cell_type": "markdown",
   "id": "ee20ee48",
   "metadata": {},
   "source": [
    "# EDA (Exploratory Data Analysis)"
   ]
  },
  {
   "cell_type": "markdown",
   "id": "7649da9b",
   "metadata": {},
   "source": [
    "Find the total airports (origin + destination)"
   ]
  },
  {
   "cell_type": "code",
   "execution_count": 50,
   "id": "1b8247f4",
   "metadata": {},
   "outputs": [
    {
     "name": "stdout",
     "output_type": "stream",
     "text": [
      "Total unique airports (origin + destination): 312\n"
     ]
    }
   ],
   "source": [
    "total_airports = pd.concat([df_cleaned['origin'], df_cleaned['dest']])\n",
    "total_airports = total_airports.drop_duplicates().reset_index(drop=True)\n",
    "print(f\"Total unique airports (origin + destination): {total_airports.count()}\")"
   ]
  },
  {
   "cell_type": "markdown",
   "id": "740f15aa",
   "metadata": {},
   "source": [
    "Find the total and percentage of flights are delayed on arrivals:"
   ]
  },
  {
   "cell_type": "code",
   "execution_count": 45,
   "id": "030033d6",
   "metadata": {},
   "outputs": [
    {
     "name": "stdout",
     "output_type": "stream",
     "text": [
      "Total flights: 10000\n",
      "Delayed flights on departures: 3663\n",
      "Percentage of delayed flights on departures: 36.63%\n",
      "Delayed flights on arrivals: 3578\n",
      "Percentage of delayed flights on arrivals: 35.78%\n"
     ]
    }
   ],
   "source": [
    "total_flights = len(df_cleaned)\n",
    "departure_delayed_flights = df_cleaned[df_cleaned['dep_delay'] > 0]\n",
    "percentage_departure_delayed = (len(departure_delayed_flights) / total_flights * 100) if total_flights > 0 else 0\n",
    "arrival_delayed_flights = df_cleaned[df_cleaned['arr_delay'] > 0]\n",
    "percentage_arrival_delayed = (len(arrival_delayed_flights) / total_flights * 100) if total_flights > 0 else 0\n",
    "print(f\"Total flights: {total_flights}\")\n",
    "print(f\"Delayed flights on departures: {len(departure_delayed_flights)}\")\n",
    "print(f\"Percentage of delayed flights on departures: {percentage_departure_delayed:.2f}%\")\n",
    "print(f\"Delayed flights on arrivals: {len(arrival_delayed_flights)}\")\n",
    "print(f\"Percentage of delayed flights on arrivals: {percentage_arrival_delayed:.2f}%\")"
   ]
  },
  {
   "cell_type": "markdown",
   "id": "8120ebaf",
   "metadata": {},
   "source": [
    "Find the average arrival delay by day of the week in minutes:"
   ]
  },
  {
   "cell_type": "code",
   "execution_count": 41,
   "id": "c2127139",
   "metadata": {},
   "outputs": [
    {
     "name": "stdout",
     "output_type": "stream",
     "text": [
      "   day_of_week  arr_delay\n",
      "0            1   6.320051\n",
      "1            2   3.039286\n",
      "2            3   4.560182\n",
      "3            4   8.710696\n",
      "4            5   9.820671\n",
      "5            6   9.410769\n",
      "6            7   9.928369\n"
     ]
    }
   ],
   "source": [
    "df_arrival_delayed_mean = df_cleaned.groupby('day_of_week')['arr_delay'].mean().reset_index()\n",
    "print(df_arrival_delayed_mean)"
   ]
  },
  {
   "cell_type": "markdown",
   "id": "dc453625",
   "metadata": {},
   "source": [
    "# First Hypothesis\n",
    "H₀ (Null Hypothesis): There is no significant difference in mean flight arrival delays between weekdays and weekends.\n",
    "\n",
    "H₁ (Alternative Hypothesis): Mean flight arrival delays are significantly higher on weekends compared to weekdays."
   ]
  },
  {
   "cell_type": "markdown",
   "id": "6aa541a1",
   "metadata": {},
   "source": [
    "# ANOVA (Analysis of Variance)\n",
    "Purpose:\n",
    "ANOVA tests whether the means of several groups are equal.\n",
    "\n",
    "Null hypothesis (H₀): The mean arrival delay is the same across all days of the week.\n",
    "\n",
    "Alternative hypothesis (H₁): At least one day has a different mean arrival delay."
   ]
  },
  {
   "cell_type": "code",
   "execution_count": 13,
   "id": "fb2a328b",
   "metadata": {},
   "outputs": [
    {
     "name": "stdout",
     "output_type": "stream",
     "text": [
      "ANOVA F-statistic: 3.518, p-value: 0.002\n",
      "Reject H₀: At least one day's mean delay is significantly different.\n"
     ]
    }
   ],
   "source": [
    "# Group delays by day\n",
    "groups = [df_cleaned[df_cleaned['day_of_week'] == day]['arr_delay'] for day in sorted(df_cleaned['day_of_week'].unique())]\n",
    "\n",
    "# Perform one-way ANOVA\n",
    "f_stat, p_value = f_oneway(*groups)\n",
    "print(f\"ANOVA F-statistic: {f_stat:.3f}, p-value: {p_value:.3f}\")\n",
    "\n",
    "if p_value < 0.05:\n",
    "    print(\"Reject H₀: At least one day's mean delay is significantly different.\")\n",
    "else:\n",
    "    print(\"Fail to reject H₀: No significant difference in mean delays across days.\")"
   ]
  },
  {
   "cell_type": "markdown",
   "id": "8c70f22b",
   "metadata": {},
   "source": [
    "p-value < 0.05, therefore we reject H₀: at least one group mean is significantly different."
   ]
  },
  {
   "cell_type": "markdown",
   "id": "0467f6bc",
   "metadata": {},
   "source": [
    "# t-test\n",
    "Purpose:\n",
    "A t-test compares the means of two groups. Example: Compare mean delays for weekdays vs. weekends."
   ]
  },
  {
   "cell_type": "code",
   "execution_count": 14,
   "id": "5c73f806",
   "metadata": {},
   "outputs": [
    {
     "name": "stdout",
     "output_type": "stream",
     "text": [
      "t-test statistic: -2.373, p-value: 0.018\n",
      "Reject H₀: Mean delays are significantly different between weekdays and weekends.\n"
     ]
    }
   ],
   "source": [
    "# Define weekdays (1-5) and weekends (6-7)\n",
    "weekdays = df_cleaned[df_cleaned['day_of_week'].isin([1,2,3,4,5])]['arr_delay']\n",
    "weekends = df_cleaned[df_cleaned['day_of_week'].isin([6,7])]['arr_delay']\n",
    "\n",
    "# Perform independent two-sample t-test\n",
    "t_stat, p_value = ttest_ind(weekdays, weekends, equal_var=False) \n",
    "# equal_var: If False, Welch's t-test is performed, which does not assume equal population variance.\n",
    "\n",
    "print(f\"t-test statistic: {t_stat:.3f}, p-value: {p_value:.3f}\")\n",
    "\n",
    "if p_value < 0.05:\n",
    "    print(\"Reject H₀: Mean delays are significantly different between weekdays and weekends.\")\n",
    "else:\n",
    "    print(\"Fail to reject H₀: No significant difference in mean delays between weekdays and weekends.\")"
   ]
  },
  {
   "cell_type": "markdown",
   "id": "535af852",
   "metadata": {},
   "source": [
    "p-value < 0.05, therefore we reject H₀: there is a significant difference in mean delays between weekdays and weekends."
   ]
  },
  {
   "cell_type": "markdown",
   "id": "4f240c8b",
   "metadata": {},
   "source": [
    "## Key Points on Interpreting Results\n",
    "ANOVA tells you if any group is different; t-test tells you if two specific groups are different.\n",
    "\n",
    "p-value: The probability that observed differences are due to chance.\n",
    "\n",
    "Threshold (α): Commonly 0.05.\n",
    "\n",
    "Reject H₀: If p-value < α, the difference is statistically significant.\n",
    "\n",
    "Fail to Reject H₀: If p-value ≥ α, you don’t have enough evidence for a difference."
   ]
  },
  {
   "cell_type": "markdown",
   "id": "6cd7fbad",
   "metadata": {},
   "source": [
    "# Visualize the results:"
   ]
  },
  {
   "cell_type": "markdown",
   "id": "23c10daa",
   "metadata": {},
   "source": [
    "### Boxplot plot: Identify outliers and compare the spread."
   ]
  },
  {
   "cell_type": "code",
   "execution_count": 15,
   "id": "ce19e6be",
   "metadata": {},
   "outputs": [
    {
     "data": {
      "image/png": "[encoded data removed]",
      "text/plain": [
       "<Figure size 1000x600 with 1 Axes>"
      ]
     },
     "metadata": {},
     "output_type": "display_data"
    }
   ],
   "source": [
    "# Arrange the week day starting by Sunday\n",
    "df_cleaned['day'] = pd.Categorical(df_cleaned['day'], categories=['Sunday', 'Monday', 'Tuesday', 'Wednesday', 'Thursday', 'Friday', 'Saturday'], ordered=True)\n",
    "\n",
    "plt.figure(figsize=(10,6))\n",
    "sns.boxplot(x='day', y='arr_delay', data=df_cleaned)\n",
    "plt.xlabel('Day of Week')\n",
    "plt.ylabel('Arrival Delay (minutes)')\n",
    "plt.title('Arrival Delay Distribution by Day of Week')\n",
    "plt.show()"
   ]
  },
  {
   "cell_type": "markdown",
   "id": "277fad01",
   "metadata": {},
   "source": [
    "### Bar plot: Spot trends, peaks, and dips."
   ]
  },
  {
   "cell_type": "code",
   "execution_count": 16,
   "id": "4b01c8ff",
   "metadata": {},
   "outputs": [
    {
     "name": "stderr",
     "output_type": "stream",
     "text": [
      "C:\\Users\\User\\AppData\\Local\\Temp\\ipykernel_70416\\1650229342.py:1: FutureWarning: The default of observed=False is deprecated and will be changed to True in a future version of pandas. Pass observed=False to retain current behavior or observed=True to adopt the future default and silence this warning.\n",
      "  mean_delays = df_cleaned.groupby('day')['arr_delay'].mean().reset_index()\n",
      "C:\\Users\\User\\AppData\\Local\\Temp\\ipykernel_70416\\1650229342.py:4: FutureWarning: \n",
      "\n",
      "Passing `palette` without assigning `hue` is deprecated and will be removed in v0.14.0. Assign the `x` variable to `hue` and set `legend=False` for the same effect.\n",
      "\n",
      "  sns.barplot(x='day', y='arr_delay', data=mean_delays, palette='viridis')\n"
     ]
    },
    {
     "data": {
      "image/png": "[encoded data removed]",
      "text/plain": [
       "<Figure size 800x500 with 1 Axes>"
      ]
     },
     "metadata": {},
     "output_type": "display_data"
    }
   ],
   "source": [
    "mean_delays = df_cleaned.groupby('day')['arr_delay'].mean().reset_index()\n",
    "\n",
    "plt.figure(figsize=(8,5))\n",
    "sns.barplot(x='day', y='arr_delay', data=mean_delays, palette='viridis')\n",
    "plt.xlabel('Day of Week')\n",
    "plt.ylabel('Mean Arrival Delay (minutes)')\n",
    "plt.title('Mean Arrival Delay per Day of Week')\n",
    "plt.show()"
   ]
  },
  {
   "cell_type": "markdown",
   "id": "73372cf7",
   "metadata": {},
   "source": [
    "### Histogram: See overall variability and skewness."
   ]
  },
  {
   "cell_type": "code",
   "execution_count": 17,
   "id": "0e26b27c",
   "metadata": {},
   "outputs": [
    {
     "data": {
      "image/png": "[encoded data removed]",
      "text/plain": [
       "<Figure size 800x500 with 1 Axes>"
      ]
     },
     "metadata": {},
     "output_type": "display_data"
    }
   ],
   "source": [
    "plt.figure(figsize=(8,5))\n",
    "sns.histplot(df_cleaned['arr_delay'], bins=30, kde=True)\n",
    "plt.xlabel('Arrival Delay (minutes)')\n",
    "plt.title('Histogram of Arrival Delays')\n",
    "plt.show()"
   ]
  },
  {
   "cell_type": "markdown",
   "id": "c898418f",
   "metadata": {},
   "source": [
    "Conclusion:\n",
    "Based on the ANOVA and t-test results, we found significant differences in flight arrival delays across days of the week and between weekdays and weekends. This suggests that certain days may be more prone to delays, which could inform scheduling and operational decisions."
   ]
  },
  {
   "cell_type": "markdown",
   "id": "192039c8",
   "metadata": {},
   "source": [
    "# Second Hypothesis\n",
    "H₀ (Null Hypothesis): There is no significant difference in mean flight arrival delays between months with school breaks and months without.\n",
    "\n",
    "H₁ (Alternative Hypothesis): There is a significant difference in mean flight arrival delays between months with school breaks and months without."
   ]
  },
  {
   "cell_type": "markdown",
   "id": "20b3f25f",
   "metadata": {},
   "source": [
    "Find the mean of the 'ARRIVAL_DELAY' by month in minutes:"
   ]
  },
  {
   "cell_type": "code",
   "execution_count": 18,
   "id": "4c71f82c",
   "metadata": {},
   "outputs": [
    {
     "name": "stdout",
     "output_type": "stream",
     "text": [
      "    month  arr_delay\n",
      "0       1   9.975806\n",
      "1       2  -0.329609\n",
      "2       3   7.849282\n",
      "3       4   6.496495\n",
      "4       5  12.690276\n",
      "5       6  11.312426\n",
      "6       7  20.673937\n",
      "7       8   9.878893\n",
      "8       9   0.929426\n",
      "9      10  -3.569767\n",
      "10     11   1.988722\n",
      "11     12  10.253102\n"
     ]
    }
   ],
   "source": [
    "df_delayed_month_mean = df_cleaned.groupby('month')['arr_delay'].mean().reset_index()\n",
    "print(df_delayed_month_mean)"
   ]
  },
  {
   "cell_type": "markdown",
   "id": "e43df0fe",
   "metadata": {},
   "source": [
    "Filter the dataset for months with and without school breaks:"
   ]
  },
  {
   "cell_type": "code",
   "execution_count": 19,
   "id": "46f9e71c",
   "metadata": {},
   "outputs": [],
   "source": [
    "school_break_months = [6, 7, 12]\n",
    "non_break_months = [m for m in range(1, 13) if m not in school_break_months]\n",
    "\n",
    "break_delays = df_cleaned[df_cleaned['month'].isin(school_break_months)]['arr_delay']\n",
    "non_break_delays = df_cleaned[df_cleaned['month'].isin(non_break_months)]['arr_delay']"
   ]
  },
  {
   "cell_type": "markdown",
   "id": "793d32d7",
   "metadata": {},
   "source": [
    "### ANOVA (Analysis of Variance)"
   ]
  },
  {
   "cell_type": "code",
   "execution_count": 20,
   "id": "b7483cfd",
   "metadata": {},
   "outputs": [
    {
     "name": "stdout",
     "output_type": "stream",
     "text": [
      "ANOVA F-statistic: 12.941, p-value: 0.000\n",
      "Reject H₀: At least one month's mean delay is significantly different.\n"
     ]
    }
   ],
   "source": [
    "groups = [df_cleaned[df_cleaned['month'] == m]['arr_delay'] for m in sorted(df_cleaned['month'].unique())]\n",
    "f_stat, p_value = f_oneway(*groups)\n",
    "print(f\"ANOVA F-statistic: {f_stat:.3f}, p-value: {p_value:.3f}\")\n",
    "\n",
    "if p_value < 0.05:\n",
    "    print(\"Reject H₀: At least one month's mean delay is significantly different.\")\n",
    "else:\n",
    "    print(\"Fail to reject H₀: No significant difference in mean delays across months.\")"
   ]
  },
  {
   "cell_type": "markdown",
   "id": "338cc7f3",
   "metadata": {},
   "source": [
    "### t-test"
   ]
  },
  {
   "cell_type": "code",
   "execution_count": 21,
   "id": "80774f49",
   "metadata": {},
   "outputs": [
    {
     "name": "stdout",
     "output_type": "stream",
     "text": [
      "T-statistic: 6.023, p-value: 0.000\n",
      "Reject H₀: Mean arrival delays are significantly different between school break and non-break months.\n"
     ]
    }
   ],
   "source": [
    "t_stat, p_value = ttest_ind(break_delays, non_break_delays, equal_var=False)\n",
    "print(f\"T-statistic: {t_stat:.3f}, p-value: {p_value:.3f}\")\n",
    "\n",
    "if p_value < 0.05:\n",
    "    print(\"Reject H₀: Mean arrival delays are significantly different between school break and non-break months.\")\n",
    "else:\n",
    "    print(\"Fail to reject H₀: No significant difference in mean arrival delays between the groups.\")"
   ]
  },
  {
   "cell_type": "markdown",
   "id": "6b4c0c33",
   "metadata": {},
   "source": [
    "# Visualization of the results:"
   ]
  },
  {
   "cell_type": "markdown",
   "id": "a2c00af0",
   "metadata": {},
   "source": [
    "### Boxplot plot: Identify outliers and compare the spread."
   ]
  },
  {
   "cell_type": "code",
   "execution_count": 22,
   "id": "3edb8024",
   "metadata": {},
   "outputs": [
    {
     "data": {
      "image/png": "[encoded data removed]",
      "text/plain": [
       "<Figure size 1200x600 with 1 Axes>"
      ]
     },
     "metadata": {},
     "output_type": "display_data"
    }
   ],
   "source": [
    "df_cleaned['month_name'] = pd.Categorical(df_cleaned['month_name'], categories=list(month_mapping.values()), ordered=True)\n",
    "\n",
    "plt.figure(figsize=(12,6))\n",
    "sns.boxplot(x='month_name', y='arr_delay', data=df_cleaned)\n",
    "plt.xlabel('Month')\n",
    "plt.ylabel('Arrival Delay (minutes)')\n",
    "plt.title('Arrival Delay Distribution by Month')\n",
    "plt.xticks(rotation=45)\n",
    "plt.show()"
   ]
  },
  {
   "cell_type": "markdown",
   "id": "8cb28dad",
   "metadata": {},
   "source": [
    "### Bar plot: Spot trends, peaks, and dips."
   ]
  },
  {
   "cell_type": "code",
   "execution_count": 23,
   "id": "e536638d",
   "metadata": {},
   "outputs": [
    {
     "name": "stderr",
     "output_type": "stream",
     "text": [
      "C:\\Users\\User\\AppData\\Local\\Temp\\ipykernel_70416\\413687242.py:1: FutureWarning: The default of observed=False is deprecated and will be changed to True in a future version of pandas. Pass observed=False to retain current behavior or observed=True to adopt the future default and silence this warning.\n",
      "  mean_delays_month = df_cleaned.groupby('month_name')['arr_delay'].mean().reset_index()\n",
      "C:\\Users\\User\\AppData\\Local\\Temp\\ipykernel_70416\\413687242.py:4: FutureWarning: \n",
      "\n",
      "Passing `palette` without assigning `hue` is deprecated and will be removed in v0.14.0. Assign the `x` variable to `hue` and set `legend=False` for the same effect.\n",
      "\n",
      "  sns.barplot(x='month_name', y='arr_delay', data=mean_delays_month, palette='coolwarm')\n"
     ]
    },
    {
     "data": {
      "image/png": "[encoded data removed]",
      "text/plain": [
       "<Figure size 1000x500 with 1 Axes>"
      ]
     },
     "metadata": {},
     "output_type": "display_data"
    }
   ],
   "source": [
    "mean_delays_month = df_cleaned.groupby('month_name')['arr_delay'].mean().reset_index()\n",
    "mean_delays_month['month_name'] = pd.Categorical(mean_delays_month['month_name'], categories=month_mapping.values(), ordered=True)\n",
    "plt.figure(figsize=(10,5))\n",
    "sns.barplot(x='month_name', y='arr_delay', data=mean_delays_month, palette='coolwarm')\n",
    "plt.xticks(rotation=45)\n",
    "plt.xlabel('Month')\n",
    "plt.ylabel('Mean Arrival Delay (minutes)')\n",
    "plt.title('Mean Arrival Delay per Month')\n",
    "plt.show()"
   ]
  },
  {
   "cell_type": "code",
   "execution_count": 24,
   "id": "3b6f1ece",
   "metadata": {},
   "outputs": [
    {
     "name": "stdout",
     "output_type": "stream",
     "text": [
      "Mean arrival delay in February: -0.33 minutes\n",
      "Mean arrival delay in October: -3.57 minutes\n",
      "Sample of early arrivals in February and October:\n",
      "    month  arr_delay  dep_delay origin dest\n",
      "4       2       -1.0       -7.0    BWI  MYR\n",
      "9       2      -23.0       -8.0    SFO  BFL\n",
      "13     10      -27.0      -14.0    TPA  BNA\n",
      "18     10      -12.0       -3.0    ATL  MSY\n",
      "23     10      -25.0       -4.0    DFW  LGA\n",
      "25     10       -1.0       -7.0    ORD  FWA\n",
      "26      2      -31.0       -7.0    PVD  CLT\n",
      "37     10      -31.0       -5.0    MIA  DCA\n",
      "39      2      -34.0       -4.0    SFO  DFW\n",
      "43     10       -9.0       -1.0    SMF  LGB\n"
     ]
    }
   ],
   "source": [
    "# Analyze flights in February and October with negative arrival delays\n",
    "feb_oct_delays = df_cleaned[df_cleaned['month'].isin([2, 10])][['month', 'arr_delay', 'dep_delay', 'origin', 'dest']]\n",
    "\n",
    "# Calculate statistics\n",
    "mean_feb_delay = feb_oct_delays[feb_oct_delays['month'] == 2]['arr_delay'].mean()\n",
    "mean_oct_delay = feb_oct_delays[feb_oct_delays['month'] == 10]['arr_delay'].mean()\n",
    "\n",
    "print(f\"Mean arrival delay in February: {mean_feb_delay:.2f} minutes\")\n",
    "print(f\"Mean arrival delay in October: {mean_oct_delay:.2f} minutes\")\n",
    "\n",
    "# Show a sample of early arrivals\n",
    "early_arrivals = feb_oct_delays[feb_oct_delays['arr_delay'] < 0].head(10)\n",
    "print(\"Sample of early arrivals in February and October:\")\n",
    "print(early_arrivals)\n",
    "\n",
    "# Possible reasons:\n",
    "# - Flights arrived earlier than scheduled (negative arr_delay)\n",
    "# - Favorable weather or wind conditions\n",
    "# - Conservative scheduling (buffer time in schedule)"
   ]
  },
  {
   "cell_type": "markdown",
   "id": "4fa582ef",
   "metadata": {},
   "source": [
    "Conclusion:\n",
    "Based on the t-test results, we found a significant difference in mean flight arrival delays between months with school breaks and those without. This indicates that school breaks may influence flight delays, potentially due to increased travel demand during these periods. Further analysis could help in understanding the underlying causes and in developing strategies to manage delays during peak travel times.\n",
    "February and October have negative delays because they have less traffic due to fewer holidays and school breaks."
   ]
  },
  {
   "cell_type": "markdown",
   "id": "b908b21a",
   "metadata": {},
   "source": [
    "### Find the city with most departure delays in order to webscrape its airport website for delay information:"
   ]
  },
  {
   "cell_type": "code",
   "execution_count": 25,
   "id": "ef31e045",
   "metadata": {},
   "outputs": [
    {
     "name": "stdout",
     "output_type": "stream",
     "text": [
      "City with most total departure delays: Dallas/Fort Worth, TX\n"
     ]
    }
   ],
   "source": [
    "city_with_most_dep_delays = df_cleaned.groupby('origin_city_name')['dep_delay'].sum().idxmax()\n",
    "print(f\"City with most total departure delays: {city_with_most_dep_delays}\")"
   ]
  },
  {
   "cell_type": "code",
   "execution_count": 26,
   "id": "2ff22580",
   "metadata": {},
   "outputs": [
    {
     "data": {
      "text/html": [
       "<div>\n",
       "<style scoped>\n",
       "    .dataframe tbody tr th:only-of-type {\n",
       "        vertical-align: middle;\n",
       "    }\n",
       "\n",
       "    .dataframe tbody tr th {\n",
       "        vertical-align: top;\n",
       "    }\n",
       "\n",
       "    .dataframe thead th {\n",
       "        text-align: right;\n",
       "    }\n",
       "</style>\n",
       "<table border=\"1\" class=\"dataframe\">\n",
       "  <thead>\n",
       "    <tr style=\"text-align: right;\">\n",
       "      <th></th>\n",
       "      <th>year</th>\n",
       "      <th>month</th>\n",
       "      <th>day_of_month</th>\n",
       "      <th>day_of_week</th>\n",
       "      <th>fl_date</th>\n",
       "      <th>op_unique_carrier</th>\n",
       "      <th>op_carrier_fl_num</th>\n",
       "      <th>origin</th>\n",
       "      <th>origin_city_name</th>\n",
       "      <th>origin_state_nm</th>\n",
       "      <th>dest</th>\n",
       "      <th>dest_city_name</th>\n",
       "      <th>dest_state_nm</th>\n",
       "      <th>crs_dep_time</th>\n",
       "      <th>dep_time</th>\n",
       "      <th>dep_delay</th>\n",
       "      <th>taxi_out</th>\n",
       "      <th>wheels_off</th>\n",
       "      <th>wheels_on</th>\n",
       "      <th>taxi_in</th>\n",
       "      <th>crs_arr_time</th>\n",
       "      <th>arr_time</th>\n",
       "      <th>arr_delay</th>\n",
       "      <th>cancelled</th>\n",
       "      <th>cancellation_code</th>\n",
       "      <th>diverted</th>\n",
       "      <th>crs_elapsed_time</th>\n",
       "      <th>actual_elapsed_time</th>\n",
       "      <th>air_time</th>\n",
       "      <th>distance</th>\n",
       "      <th>carrier_delay</th>\n",
       "      <th>weather_delay</th>\n",
       "      <th>nas_delay</th>\n",
       "      <th>security_delay</th>\n",
       "      <th>late_aircraft_delay</th>\n",
       "      <th>day</th>\n",
       "      <th>month_name</th>\n",
       "    </tr>\n",
       "  </thead>\n",
       "  <tbody>\n",
       "    <tr>\n",
       "      <th>0</th>\n",
       "      <td>2024</td>\n",
       "      <td>4</td>\n",
       "      <td>18</td>\n",
       "      <td>4</td>\n",
       "      <td>2024-04-18</td>\n",
       "      <td>MQ</td>\n",
       "      <td>3535.0</td>\n",
       "      <td>DFW</td>\n",
       "      <td>Dallas/Fort Worth, TX</td>\n",
       "      <td>Texas</td>\n",
       "      <td>RAP</td>\n",
       "      <td>Rapid City, SD</td>\n",
       "      <td>South Dakota</td>\n",
       "      <td>1018</td>\n",
       "      <td>1015.0</td>\n",
       "      <td>-3.0</td>\n",
       "      <td>21.0</td>\n",
       "      <td>1036.0</td>\n",
       "      <td>1135.0</td>\n",
       "      <td>4.0</td>\n",
       "      <td>1149</td>\n",
       "      <td>1139.0</td>\n",
       "      <td>-10.0</td>\n",
       "      <td>0</td>\n",
       "      <td>0</td>\n",
       "      <td>0</td>\n",
       "      <td>151.0</td>\n",
       "      <td>144.0</td>\n",
       "      <td>119.0</td>\n",
       "      <td>835.0</td>\n",
       "      <td>0</td>\n",
       "      <td>0</td>\n",
       "      <td>0</td>\n",
       "      <td>0</td>\n",
       "      <td>0</td>\n",
       "      <td>Thursday</td>\n",
       "      <td>April</td>\n",
       "    </tr>\n",
       "    <tr>\n",
       "      <th>23</th>\n",
       "      <td>2024</td>\n",
       "      <td>10</td>\n",
       "      <td>6</td>\n",
       "      <td>7</td>\n",
       "      <td>2024-10-06</td>\n",
       "      <td>DL</td>\n",
       "      <td>461.0</td>\n",
       "      <td>DFW</td>\n",
       "      <td>Dallas/Fort Worth, TX</td>\n",
       "      <td>Texas</td>\n",
       "      <td>LGA</td>\n",
       "      <td>New York, NY</td>\n",
       "      <td>New York</td>\n",
       "      <td>600</td>\n",
       "      <td>556.0</td>\n",
       "      <td>-4.0</td>\n",
       "      <td>14.0</td>\n",
       "      <td>610.0</td>\n",
       "      <td>1002.0</td>\n",
       "      <td>5.0</td>\n",
       "      <td>1032</td>\n",
       "      <td>1007.0</td>\n",
       "      <td>-25.0</td>\n",
       "      <td>0</td>\n",
       "      <td>0</td>\n",
       "      <td>0</td>\n",
       "      <td>212.0</td>\n",
       "      <td>191.0</td>\n",
       "      <td>172.0</td>\n",
       "      <td>1389.0</td>\n",
       "      <td>0</td>\n",
       "      <td>0</td>\n",
       "      <td>0</td>\n",
       "      <td>0</td>\n",
       "      <td>0</td>\n",
       "      <td>Sunday</td>\n",
       "      <td>October</td>\n",
       "    </tr>\n",
       "    <tr>\n",
       "      <th>24</th>\n",
       "      <td>2024</td>\n",
       "      <td>1</td>\n",
       "      <td>16</td>\n",
       "      <td>2</td>\n",
       "      <td>2024-01-16</td>\n",
       "      <td>AA</td>\n",
       "      <td>2100.0</td>\n",
       "      <td>DFW</td>\n",
       "      <td>Dallas/Fort Worth, TX</td>\n",
       "      <td>Texas</td>\n",
       "      <td>MCI</td>\n",
       "      <td>Kansas City, MO</td>\n",
       "      <td>Missouri</td>\n",
       "      <td>1538</td>\n",
       "      <td>0.0</td>\n",
       "      <td>0.0</td>\n",
       "      <td>0.0</td>\n",
       "      <td>0.0</td>\n",
       "      <td>0.0</td>\n",
       "      <td>0.0</td>\n",
       "      <td>1710</td>\n",
       "      <td>0.0</td>\n",
       "      <td>0.0</td>\n",
       "      <td>1</td>\n",
       "      <td>B</td>\n",
       "      <td>0</td>\n",
       "      <td>92.0</td>\n",
       "      <td>0.0</td>\n",
       "      <td>0.0</td>\n",
       "      <td>460.0</td>\n",
       "      <td>0</td>\n",
       "      <td>0</td>\n",
       "      <td>0</td>\n",
       "      <td>0</td>\n",
       "      <td>0</td>\n",
       "      <td>Tuesday</td>\n",
       "      <td>January</td>\n",
       "    </tr>\n",
       "    <tr>\n",
       "      <th>49</th>\n",
       "      <td>2024</td>\n",
       "      <td>4</td>\n",
       "      <td>22</td>\n",
       "      <td>1</td>\n",
       "      <td>2024-04-22</td>\n",
       "      <td>AA</td>\n",
       "      <td>468.0</td>\n",
       "      <td>DFW</td>\n",
       "      <td>Dallas/Fort Worth, TX</td>\n",
       "      <td>Texas</td>\n",
       "      <td>LAS</td>\n",
       "      <td>Las Vegas, NV</td>\n",
       "      <td>Nevada</td>\n",
       "      <td>1656</td>\n",
       "      <td>1726.0</td>\n",
       "      <td>30.0</td>\n",
       "      <td>19.0</td>\n",
       "      <td>1745.0</td>\n",
       "      <td>1807.0</td>\n",
       "      <td>7.0</td>\n",
       "      <td>1756</td>\n",
       "      <td>1814.0</td>\n",
       "      <td>18.0</td>\n",
       "      <td>0</td>\n",
       "      <td>0</td>\n",
       "      <td>0</td>\n",
       "      <td>180.0</td>\n",
       "      <td>168.0</td>\n",
       "      <td>142.0</td>\n",
       "      <td>1055.0</td>\n",
       "      <td>0</td>\n",
       "      <td>0</td>\n",
       "      <td>0</td>\n",
       "      <td>0</td>\n",
       "      <td>18</td>\n",
       "      <td>Monday</td>\n",
       "      <td>April</td>\n",
       "    </tr>\n",
       "    <tr>\n",
       "      <th>52</th>\n",
       "      <td>2024</td>\n",
       "      <td>6</td>\n",
       "      <td>26</td>\n",
       "      <td>3</td>\n",
       "      <td>2024-06-26</td>\n",
       "      <td>AA</td>\n",
       "      <td>187.0</td>\n",
       "      <td>DFW</td>\n",
       "      <td>Dallas/Fort Worth, TX</td>\n",
       "      <td>Texas</td>\n",
       "      <td>LAX</td>\n",
       "      <td>Los Angeles, CA</td>\n",
       "      <td>California</td>\n",
       "      <td>1833</td>\n",
       "      <td>1833.0</td>\n",
       "      <td>0.0</td>\n",
       "      <td>21.0</td>\n",
       "      <td>1854.0</td>\n",
       "      <td>1927.0</td>\n",
       "      <td>8.0</td>\n",
       "      <td>1950</td>\n",
       "      <td>1935.0</td>\n",
       "      <td>-15.0</td>\n",
       "      <td>0</td>\n",
       "      <td>0</td>\n",
       "      <td>0</td>\n",
       "      <td>197.0</td>\n",
       "      <td>182.0</td>\n",
       "      <td>153.0</td>\n",
       "      <td>1235.0</td>\n",
       "      <td>0</td>\n",
       "      <td>0</td>\n",
       "      <td>0</td>\n",
       "      <td>0</td>\n",
       "      <td>0</td>\n",
       "      <td>Wednesday</td>\n",
       "      <td>June</td>\n",
       "    </tr>\n",
       "  </tbody>\n",
       "</table>\n",
       "</div>"
      ],
      "text/plain": [
       "    year  month  day_of_month  day_of_week     fl_date op_unique_carrier  \\\n",
       "0   2024      4            18            4  2024-04-18                MQ   \n",
       "23  2024     10             6            7  2024-10-06                DL   \n",
       "24  2024      1            16            2  2024-01-16                AA   \n",
       "49  2024      4            22            1  2024-04-22                AA   \n",
       "52  2024      6            26            3  2024-06-26                AA   \n",
       "\n",
       "    op_carrier_fl_num origin       origin_city_name origin_state_nm dest  \\\n",
       "0              3535.0    DFW  Dallas/Fort Worth, TX           Texas  RAP   \n",
       "23              461.0    DFW  Dallas/Fort Worth, TX           Texas  LGA   \n",
       "24             2100.0    DFW  Dallas/Fort Worth, TX           Texas  MCI   \n",
       "49              468.0    DFW  Dallas/Fort Worth, TX           Texas  LAS   \n",
       "52              187.0    DFW  Dallas/Fort Worth, TX           Texas  LAX   \n",
       "\n",
       "     dest_city_name dest_state_nm  crs_dep_time  dep_time  dep_delay  \\\n",
       "0    Rapid City, SD  South Dakota          1018    1015.0       -3.0   \n",
       "23     New York, NY      New York           600     556.0       -4.0   \n",
       "24  Kansas City, MO      Missouri          1538       0.0        0.0   \n",
       "49    Las Vegas, NV        Nevada          1656    1726.0       30.0   \n",
       "52  Los Angeles, CA    California          1833    1833.0        0.0   \n",
       "\n",
       "    taxi_out  wheels_off  wheels_on  taxi_in  crs_arr_time  arr_time  \\\n",
       "0       21.0      1036.0     1135.0      4.0          1149    1139.0   \n",
       "23      14.0       610.0     1002.0      5.0          1032    1007.0   \n",
       "24       0.0         0.0        0.0      0.0          1710       0.0   \n",
       "49      19.0      1745.0     1807.0      7.0          1756    1814.0   \n",
       "52      21.0      1854.0     1927.0      8.0          1950    1935.0   \n",
       "\n",
       "    arr_delay  cancelled cancellation_code  diverted  crs_elapsed_time  \\\n",
       "0       -10.0          0                 0         0             151.0   \n",
       "23      -25.0          0                 0         0             212.0   \n",
       "24        0.0          1                 B         0              92.0   \n",
       "49       18.0          0                 0         0             180.0   \n",
       "52      -15.0          0                 0         0             197.0   \n",
       "\n",
       "    actual_elapsed_time  air_time  distance  carrier_delay  weather_delay  \\\n",
       "0                 144.0     119.0     835.0              0              0   \n",
       "23                191.0     172.0    1389.0              0              0   \n",
       "24                  0.0       0.0     460.0              0              0   \n",
       "49                168.0     142.0    1055.0              0              0   \n",
       "52                182.0     153.0    1235.0              0              0   \n",
       "\n",
       "    nas_delay  security_delay  late_aircraft_delay        day month_name  \n",
       "0           0               0                    0   Thursday      April  \n",
       "23          0               0                    0     Sunday    October  \n",
       "24          0               0                    0    Tuesday    January  \n",
       "49          0               0                   18     Monday      April  \n",
       "52          0               0                    0  Wednesday       June  "
      ]
     },
     "execution_count": 26,
     "metadata": {},
     "output_type": "execute_result"
    }
   ],
   "source": [
    "df_delayed_dfw = df_cleaned[df_cleaned['origin'] == 'DFW']\n",
    "df_delayed_dfw.head()"
   ]
  },
  {
   "cell_type": "code",
   "execution_count": 27,
   "id": "a0a02681",
   "metadata": {},
   "outputs": [
    {
     "data": {
      "text/plain": [
       "(438, 37)"
      ]
     },
     "execution_count": 27,
     "metadata": {},
     "output_type": "execute_result"
    }
   ],
   "source": [
    "df_delayed_dfw.shape"
   ]
  },
  {
   "cell_type": "markdown",
   "id": "73b2cbfe",
   "metadata": {},
   "source": [
    "Read the dataset of scraped data from DFW airport:"
   ]
  },
  {
   "cell_type": "code",
   "execution_count": 28,
   "id": "a0ad587b",
   "metadata": {},
   "outputs": [
    {
     "data": {
      "text/html": [
       "<div>\n",
       "<style scoped>\n",
       "    .dataframe tbody tr th:only-of-type {\n",
       "        vertical-align: middle;\n",
       "    }\n",
       "\n",
       "    .dataframe tbody tr th {\n",
       "        vertical-align: top;\n",
       "    }\n",
       "\n",
       "    .dataframe thead th {\n",
       "        text-align: right;\n",
       "    }\n",
       "</style>\n",
       "<table border=\"1\" class=\"dataframe\">\n",
       "  <thead>\n",
       "    <tr style=\"text-align: right;\">\n",
       "      <th></th>\n",
       "      <th>expected_dep_min</th>\n",
       "      <th>dep_delay_min</th>\n",
       "      <th>date</th>\n",
       "    </tr>\n",
       "  </thead>\n",
       "  <tbody>\n",
       "    <tr>\n",
       "      <th>0</th>\n",
       "      <td>864</td>\n",
       "      <td>888.0</td>\n",
       "      <td>2025-10-07</td>\n",
       "    </tr>\n",
       "    <tr>\n",
       "      <th>1</th>\n",
       "      <td>830</td>\n",
       "      <td>NaN</td>\n",
       "      <td>2025-10-07</td>\n",
       "    </tr>\n",
       "    <tr>\n",
       "      <th>2</th>\n",
       "      <td>835</td>\n",
       "      <td>857.0</td>\n",
       "      <td>2025-10-07</td>\n",
       "    </tr>\n",
       "    <tr>\n",
       "      <th>3</th>\n",
       "      <td>836</td>\n",
       "      <td>851.0</td>\n",
       "      <td>2025-10-07</td>\n",
       "    </tr>\n",
       "    <tr>\n",
       "      <th>4</th>\n",
       "      <td>840</td>\n",
       "      <td>NaN</td>\n",
       "      <td>2025-10-07</td>\n",
       "    </tr>\n",
       "  </tbody>\n",
       "</table>\n",
       "</div>"
      ],
      "text/plain": [
       "   expected_dep_min  dep_delay_min        date\n",
       "0               864          888.0  2025-10-07\n",
       "1               830            NaN  2025-10-07\n",
       "2               835          857.0  2025-10-07\n",
       "3               836          851.0  2025-10-07\n",
       "4               840            NaN  2025-10-07"
      ]
     },
     "execution_count": 28,
     "metadata": {},
     "output_type": "execute_result"
    }
   ],
   "source": [
    "df_scraped_dfw_flights = pd.read_csv('./scraped_dfw_flights.csv')\n",
    "df_scraped_dfw_flights.head()"
   ]
  },
  {
   "cell_type": "code",
   "execution_count": 29,
   "id": "7f7b6735",
   "metadata": {},
   "outputs": [
    {
     "name": "stdout",
     "output_type": "stream",
     "text": [
      "<class 'pandas.core.frame.DataFrame'>\n",
      "RangeIndex: 225 entries, 0 to 224\n",
      "Data columns (total 3 columns):\n",
      " #   Column            Non-Null Count  Dtype  \n",
      "---  ------            --------------  -----  \n",
      " 0   expected_dep_min  225 non-null    int64  \n",
      " 1   dep_delay_min     33 non-null     float64\n",
      " 2   date              225 non-null    object \n",
      "dtypes: float64(1), int64(1), object(1)\n",
      "memory usage: 5.4+ KB\n"
     ]
    }
   ],
   "source": [
    "df_scraped_dfw_flights.info()"
   ]
  },
  {
   "cell_type": "code",
   "execution_count": 30,
   "id": "b5298393",
   "metadata": {},
   "outputs": [
    {
     "name": "stdout",
     "output_type": "stream",
     "text": [
      "Number of delayed flights: 33\n",
      "Mean delayed time (minutes): 60.52\n",
      "   expected_dep_min  dep_delay_min  delay_minutes\n",
      "0               864          888.0           24.0\n",
      "2               835          857.0           22.0\n",
      "3               836          851.0           15.0\n",
      "6               864          888.0           24.0\n",
      "7               816          855.0           39.0\n"
     ]
    }
   ],
   "source": [
    "# Only keep flights with non-empty dep_delay_min (delayed flights)\n",
    "delayed_flights = df_scraped_dfw_flights[df_scraped_dfw_flights['dep_delay_min'].notna()].copy()\n",
    "\n",
    "# Calculate delay in minutes (handle next-day crossing)\n",
    "def get_delay_minutes(row):\n",
    "    expected = row['expected_dep_min']\n",
    "    delayed = row['dep_delay_min']\n",
    "    if pd.isna(expected) or pd.isna(delayed):\n",
    "        return None\n",
    "    delay = delayed - expected\n",
    "    if delay < 0:\n",
    "        delay += 24 * 60  # handle next day\n",
    "    return delay\n",
    "\n",
    "delayed_flights['delay_minutes'] = delayed_flights.apply(get_delay_minutes, axis=1)\n",
    "num_delayed_flights = delayed_flights.shape[0]\n",
    "mean_delay_minutes = delayed_flights['delay_minutes'].mean()\n",
    "\n",
    "print(f\"Number of delayed flights: {num_delayed_flights}\")\n",
    "print(f\"Mean delayed time (minutes): {mean_delay_minutes:.2f}\")\n",
    "print(delayed_flights[['expected_dep_min', 'dep_delay_min', 'delay_minutes']].head())"
   ]
  },
  {
   "cell_type": "code",
   "execution_count": 31,
   "id": "30c1ce31",
   "metadata": {},
   "outputs": [
    {
     "name": "stdout",
     "output_type": "stream",
     "text": [
      "Delayed flights on 2024-10-07: 1\n",
      "Delayed flights on 2025-10-07: 33\n",
      "T-test statistic: 0.559, p-value: 0.632\n",
      "Fail to reject H₀: No significant difference in the proportion of delayed flights between the two dates.\n"
     ]
    }
   ],
   "source": [
    "# Filter delayed flights for 2024-10-07 from df_delayed_dfw\n",
    "delayed_2024 = df_delayed_dfw[(df_delayed_dfw['fl_date'] == '2024-10-07') & (df_delayed_dfw['dep_delay'] > 0)]\n",
    "\n",
    "# Filter delayed flights for 2025-10-07 from df_scraped\n",
    "delayed_2025 = df_scraped_dfw_flights[(df_scraped_dfw_flights['date'] == '2025-10-07') & (df_scraped_dfw_flights['dep_delay_min'].notna())]\n",
    "\n",
    "# Get counts\n",
    "count_2024 = delayed_2024.shape[0]\n",
    "count_2025 = delayed_2025.shape[0]\n",
    "\n",
    "# For t-test, create arrays of counts (single value each, so not meaningful for t-test, but for demonstration)\n",
    "# Instead, compare the proportions of delayed flights if total flights are known\n",
    "# Here, we use the number of delayed flights per day as samples (not ideal, but follows the request)\n",
    "\n",
    "# If you want to compare the distributions, you need arrays. Here, we use binary arrays (1 for delayed, 0 for not delayed)\n",
    "# For 2024-10-07\n",
    "is_delayed_2024 = (df_delayed_dfw[df_delayed_dfw['fl_date'] == '2024-10-07']['dep_delay'] > 0).astype(int)\n",
    "# For 2025-10-07\n",
    "is_delayed_2025 = (df_scraped_dfw_flights[df_scraped_dfw_flights['date'] == '2025-10-07']['dep_delay_min'].notna()).astype(int)\n",
    "\n",
    "# Perform t-test on proportions\n",
    "t_stat, p_value = ttest_ind(is_delayed_2024, is_delayed_2025, equal_var=False)\n",
    "\n",
    "print(f\"Delayed flights on 2024-10-07: {count_2024}\")\n",
    "print(f\"Delayed flights on 2025-10-07: {count_2025}\")\n",
    "print(f\"T-test statistic: {t_stat:.3f}, p-value: {p_value:.3f}\")\n",
    "\n",
    "if p_value < 0.05:\n",
    "    print(\"Reject H₀: The proportion of delayed flights is significantly different between the two dates.\")\n",
    "else:\n",
    "    print(\"Fail to reject H₀: No significant difference in the proportion of delayed flights between the two dates.\")"
   ]
  },
  {
   "cell_type": "code",
   "execution_count": 32,
   "id": "661d666e",
   "metadata": {},
   "outputs": [
    {
     "name": "stdout",
     "output_type": "stream",
     "text": [
      "Number of delayed departures in October 2024: 11\n",
      "Mean delayed minutes in October 2024: 27.09\n"
     ]
    }
   ],
   "source": [
    "# Filter for October 2024 delayed departures in df_delayed_dfw\n",
    "oct_delayed = df_delayed_dfw[(df_delayed_dfw['month'] == 10) & (df_delayed_dfw['dep_delay'] > 0)]\n",
    "\n",
    "# Number of delayed flights\n",
    "num_oct_delayed = oct_delayed.shape[0]\n",
    "\n",
    "# Mean of delayed minutes\n",
    "mean_oct_delayed = oct_delayed['dep_delay'].mean()\n",
    "\n",
    "print(f\"Number of delayed departures in October 2024: {num_oct_delayed}\")\n",
    "print(f\"Mean delayed minutes in October 2024: {mean_oct_delayed:.2f}\")"
   ]
  },
  {
   "cell_type": "code",
   "execution_count": 33,
   "id": "74ba5d0e",
   "metadata": {},
   "outputs": [
    {
     "name": "stderr",
     "output_type": "stream",
     "text": [
      "c:\\Users\\User\\Desktop\\Ironhack-DS-AI\\week-19\\data-analytics-preprocessing\\.venv\\Lib\\site-packages\\sklearn\\utils\\validation.py:2749: UserWarning: X does not have valid feature names, but LinearRegression was fitted with feature names\n",
      "  warnings.warn(\n"
     ]
    },
    {
     "data": {
      "image/png": "[encoded data removed]",
      "text/plain": [
       "<Figure size 800x500 with 1 Axes>"
      ]
     },
     "metadata": {},
     "output_type": "display_data"
    },
    {
     "name": "stdout",
     "output_type": "stream",
     "text": [
      "Predicted delayed flights for 2025-10-07: 1\n"
     ]
    }
   ],
   "source": [
    "# Filter delayed flights from October 2024\n",
    "oct_delayed_dfw = df_delayed_dfw[(df_delayed_dfw['month'] == 10) & (df_delayed_dfw['dep_delay'] > 0)]\n",
    "\n",
    "# Group by day and count delayed flights\n",
    "oct_delayed_counts = oct_delayed_dfw.groupby('day_of_month').size().reset_index(name='delayed_count')\n",
    "\n",
    "# Prepare features (day_of_month) and target (delayed_count)\n",
    "X = oct_delayed_counts[['day_of_month']]\n",
    "y = oct_delayed_counts['delayed_count']\n",
    "\n",
    "# Train linear regression model\n",
    "model = LinearRegression()\n",
    "model.fit(X, y)\n",
    "\n",
    "# Predict for 10/07/2025 (day_of_month = 7)\n",
    "pred_day = np.array([[7]])\n",
    "pred_count = model.predict(pred_day)[0]\n",
    "\n",
    "# Plot actual counts and prediction\n",
    "plt.figure(figsize=(8,5))\n",
    "plt.plot(oct_delayed_counts['day_of_month'], oct_delayed_counts['delayed_count'], marker='o', label='2024 Actual')\n",
    "plt.scatter(7, pred_count, color='red', label='2025 Prediction')\n",
    "plt.xlabel('Day of October')\n",
    "plt.ylabel('Number of Delayed Flights')\n",
    "plt.title('Delayed Flights in October (DFW)')\n",
    "plt.legend()\n",
    "plt.show()\n",
    "\n",
    "print(f\"Predicted delayed flights for 2025-10-07: {int(round(pred_count))}\")"
   ]
  }
 ],
 "metadata": {
  "kernelspec": {
   "display_name": ".venv (3.13.3)",
   "language": "python",
   "name": "python3"
  },
  "language_info": {
   "codemirror_mode": {
    "name": "ipython",
    "version": 3
   },
   "file_extension": ".py",
   "mimetype": "text/x-python",
   "name": "python",
   "nbconvert_exporter": "python",
   "pygments_lexer": "ipython3",
   "version": "3.13.3"
  }
 },
 "nbformat": 4,
 "nbformat_minor": 5
}
