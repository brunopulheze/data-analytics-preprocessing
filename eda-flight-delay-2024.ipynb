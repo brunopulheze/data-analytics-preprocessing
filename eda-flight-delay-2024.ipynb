{
 "cells": [
  {
   "cell_type": "markdown",
   "id": "5e858e99",
   "metadata": {},
   "source": [
    "Flight delays can be caused by a variety of factors, including weather, air traffic control issues, and mechanical problems. <br>Understanding these factors is crucial for developing strategies to mitigate delays and improve overall efficiency in air travel."
   ]
  },
  {
   "cell_type": "markdown",
   "id": "b6fd63eb",
   "metadata": {},
   "source": [
    "Import the necessary libraries:"
   ]
  },
  {
   "cell_type": "code",
   "execution_count": 1,
   "id": "e4228934",
   "metadata": {},
   "outputs": [],
   "source": [
    "import pandas as pd\n",
    "import numpy as np\n",
    "import matplotlib.pyplot as plt\n",
    "import seaborn as sns\n",
    "from scipy.stats import f_oneway\n",
    "from scipy.stats import ttest_ind"
   ]
  },
  {
   "cell_type": "markdown",
   "id": "4a1c6efa",
   "metadata": {},
   "source": [
    "Read the dataset:"
   ]
  },
  {
   "cell_type": "code",
   "execution_count": 2,
   "id": "754b416e",
   "metadata": {},
   "outputs": [],
   "source": [
    "df = pd.read_csv('./flight_data_2024_sample.csv')"
   ]
  },
  {
   "cell_type": "markdown",
   "id": "32c1d53d",
   "metadata": {},
   "source": [
    "Explore the dataset:"
   ]
  },
  {
   "cell_type": "code",
   "execution_count": 3,
   "id": "b9390a90",
   "metadata": {},
   "outputs": [
    {
     "data": {
      "text/html": [
       "<div>\n",
       "<style scoped>\n",
       "    .dataframe tbody tr th:only-of-type {\n",
       "        vertical-align: middle;\n",
       "    }\n",
       "\n",
       "    .dataframe tbody tr th {\n",
       "        vertical-align: top;\n",
       "    }\n",
       "\n",
       "    .dataframe thead th {\n",
       "        text-align: right;\n",
       "    }\n",
       "</style>\n",
       "<table border=\"1\" class=\"dataframe\">\n",
       "  <thead>\n",
       "    <tr style=\"text-align: right;\">\n",
       "      <th></th>\n",
       "      <th>year</th>\n",
       "      <th>month</th>\n",
       "      <th>day_of_month</th>\n",
       "      <th>day_of_week</th>\n",
       "      <th>fl_date</th>\n",
       "      <th>op_unique_carrier</th>\n",
       "      <th>op_carrier_fl_num</th>\n",
       "      <th>origin</th>\n",
       "      <th>origin_city_name</th>\n",
       "      <th>origin_state_nm</th>\n",
       "      <th>...</th>\n",
       "      <th>diverted</th>\n",
       "      <th>crs_elapsed_time</th>\n",
       "      <th>actual_elapsed_time</th>\n",
       "      <th>air_time</th>\n",
       "      <th>distance</th>\n",
       "      <th>carrier_delay</th>\n",
       "      <th>weather_delay</th>\n",
       "      <th>nas_delay</th>\n",
       "      <th>security_delay</th>\n",
       "      <th>late_aircraft_delay</th>\n",
       "    </tr>\n",
       "  </thead>\n",
       "  <tbody>\n",
       "    <tr>\n",
       "      <th>0</th>\n",
       "      <td>2024</td>\n",
       "      <td>4</td>\n",
       "      <td>18</td>\n",
       "      <td>4</td>\n",
       "      <td>2024-04-18</td>\n",
       "      <td>MQ</td>\n",
       "      <td>3535.0</td>\n",
       "      <td>DFW</td>\n",
       "      <td>Dallas/Fort Worth, TX</td>\n",
       "      <td>Texas</td>\n",
       "      <td>...</td>\n",
       "      <td>0</td>\n",
       "      <td>151.0</td>\n",
       "      <td>144.0</td>\n",
       "      <td>119.0</td>\n",
       "      <td>835.0</td>\n",
       "      <td>0</td>\n",
       "      <td>0</td>\n",
       "      <td>0</td>\n",
       "      <td>0</td>\n",
       "      <td>0</td>\n",
       "    </tr>\n",
       "    <tr>\n",
       "      <th>1</th>\n",
       "      <td>2024</td>\n",
       "      <td>1</td>\n",
       "      <td>1</td>\n",
       "      <td>1</td>\n",
       "      <td>2024-01-01</td>\n",
       "      <td>AA</td>\n",
       "      <td>148.0</td>\n",
       "      <td>CLT</td>\n",
       "      <td>Charlotte, NC</td>\n",
       "      <td>North Carolina</td>\n",
       "      <td>...</td>\n",
       "      <td>0</td>\n",
       "      <td>286.0</td>\n",
       "      <td>273.0</td>\n",
       "      <td>253.0</td>\n",
       "      <td>1773.0</td>\n",
       "      <td>0</td>\n",
       "      <td>0</td>\n",
       "      <td>0</td>\n",
       "      <td>0</td>\n",
       "      <td>0</td>\n",
       "    </tr>\n",
       "    <tr>\n",
       "      <th>2</th>\n",
       "      <td>2024</td>\n",
       "      <td>12</td>\n",
       "      <td>12</td>\n",
       "      <td>4</td>\n",
       "      <td>2024-12-12</td>\n",
       "      <td>9E</td>\n",
       "      <td>5440.0</td>\n",
       "      <td>CHA</td>\n",
       "      <td>Chattanooga, TN</td>\n",
       "      <td>Tennessee</td>\n",
       "      <td>...</td>\n",
       "      <td>0</td>\n",
       "      <td>59.0</td>\n",
       "      <td>50.0</td>\n",
       "      <td>29.0</td>\n",
       "      <td>106.0</td>\n",
       "      <td>0</td>\n",
       "      <td>0</td>\n",
       "      <td>0</td>\n",
       "      <td>0</td>\n",
       "      <td>0</td>\n",
       "    </tr>\n",
       "    <tr>\n",
       "      <th>3</th>\n",
       "      <td>2024</td>\n",
       "      <td>4</td>\n",
       "      <td>8</td>\n",
       "      <td>1</td>\n",
       "      <td>2024-04-08</td>\n",
       "      <td>WN</td>\n",
       "      <td>1971.0</td>\n",
       "      <td>OMA</td>\n",
       "      <td>Omaha, NE</td>\n",
       "      <td>Nebraska</td>\n",
       "      <td>...</td>\n",
       "      <td>0</td>\n",
       "      <td>180.0</td>\n",
       "      <td>177.0</td>\n",
       "      <td>163.0</td>\n",
       "      <td>1099.0</td>\n",
       "      <td>0</td>\n",
       "      <td>0</td>\n",
       "      <td>0</td>\n",
       "      <td>0</td>\n",
       "      <td>0</td>\n",
       "    </tr>\n",
       "    <tr>\n",
       "      <th>4</th>\n",
       "      <td>2024</td>\n",
       "      <td>2</td>\n",
       "      <td>16</td>\n",
       "      <td>5</td>\n",
       "      <td>2024-02-16</td>\n",
       "      <td>WN</td>\n",
       "      <td>862.0</td>\n",
       "      <td>BWI</td>\n",
       "      <td>Baltimore, MD</td>\n",
       "      <td>Maryland</td>\n",
       "      <td>...</td>\n",
       "      <td>0</td>\n",
       "      <td>90.0</td>\n",
       "      <td>96.0</td>\n",
       "      <td>76.0</td>\n",
       "      <td>399.0</td>\n",
       "      <td>0</td>\n",
       "      <td>0</td>\n",
       "      <td>0</td>\n",
       "      <td>0</td>\n",
       "      <td>0</td>\n",
       "    </tr>\n",
       "  </tbody>\n",
       "</table>\n",
       "<p>5 rows × 35 columns</p>\n",
       "</div>"
      ],
      "text/plain": [
       "   year  month  day_of_month  day_of_week     fl_date op_unique_carrier  \\\n",
       "0  2024      4            18            4  2024-04-18                MQ   \n",
       "1  2024      1             1            1  2024-01-01                AA   \n",
       "2  2024     12            12            4  2024-12-12                9E   \n",
       "3  2024      4             8            1  2024-04-08                WN   \n",
       "4  2024      2            16            5  2024-02-16                WN   \n",
       "\n",
       "   op_carrier_fl_num origin       origin_city_name origin_state_nm  ...  \\\n",
       "0             3535.0    DFW  Dallas/Fort Worth, TX           Texas  ...   \n",
       "1              148.0    CLT          Charlotte, NC  North Carolina  ...   \n",
       "2             5440.0    CHA        Chattanooga, TN       Tennessee  ...   \n",
       "3             1971.0    OMA              Omaha, NE        Nebraska  ...   \n",
       "4              862.0    BWI          Baltimore, MD        Maryland  ...   \n",
       "\n",
       "  diverted crs_elapsed_time actual_elapsed_time  air_time  distance  \\\n",
       "0        0            151.0               144.0     119.0     835.0   \n",
       "1        0            286.0               273.0     253.0    1773.0   \n",
       "2        0             59.0                50.0      29.0     106.0   \n",
       "3        0            180.0               177.0     163.0    1099.0   \n",
       "4        0             90.0                96.0      76.0     399.0   \n",
       "\n",
       "   carrier_delay  weather_delay  nas_delay  security_delay  \\\n",
       "0              0              0          0               0   \n",
       "1              0              0          0               0   \n",
       "2              0              0          0               0   \n",
       "3              0              0          0               0   \n",
       "4              0              0          0               0   \n",
       "\n",
       "   late_aircraft_delay  \n",
       "0                    0  \n",
       "1                    0  \n",
       "2                    0  \n",
       "3                    0  \n",
       "4                    0  \n",
       "\n",
       "[5 rows x 35 columns]"
      ]
     },
     "execution_count": 3,
     "metadata": {},
     "output_type": "execute_result"
    }
   ],
   "source": [
    "df.head()"
   ]
  },
  {
   "cell_type": "code",
   "execution_count": 4,
   "id": "7021913c",
   "metadata": {},
   "outputs": [
    {
     "name": "stdout",
     "output_type": "stream",
     "text": [
      "<class 'pandas.core.frame.DataFrame'>\n",
      "RangeIndex: 10000 entries, 0 to 9999\n",
      "Data columns (total 35 columns):\n",
      " #   Column               Non-Null Count  Dtype  \n",
      "---  ------               --------------  -----  \n",
      " 0   year                 10000 non-null  int64  \n",
      " 1   month                10000 non-null  int64  \n",
      " 2   day_of_month         10000 non-null  int64  \n",
      " 3   day_of_week          10000 non-null  int64  \n",
      " 4   fl_date              10000 non-null  object \n",
      " 5   op_unique_carrier    10000 non-null  object \n",
      " 6   op_carrier_fl_num    10000 non-null  float64\n",
      " 7   origin               10000 non-null  object \n",
      " 8   origin_city_name     10000 non-null  object \n",
      " 9   origin_state_nm      10000 non-null  object \n",
      " 10  dest                 10000 non-null  object \n",
      " 11  dest_city_name       10000 non-null  object \n",
      " 12  dest_state_nm        10000 non-null  object \n",
      " 13  crs_dep_time         10000 non-null  int64  \n",
      " 14  dep_time             9884 non-null   float64\n",
      " 15  dep_delay            9884 non-null   float64\n",
      " 16  taxi_out             9880 non-null   float64\n",
      " 17  wheels_off           9880 non-null   float64\n",
      " 18  wheels_on            9873 non-null   float64\n",
      " 19  taxi_in              9873 non-null   float64\n",
      " 20  crs_arr_time         10000 non-null  int64  \n",
      " 21  arr_time             9873 non-null   float64\n",
      " 22  arr_delay            9836 non-null   float64\n",
      " 23  cancelled            10000 non-null  int64  \n",
      " 24  cancellation_code    122 non-null    object \n",
      " 25  diverted             10000 non-null  int64  \n",
      " 26  crs_elapsed_time     10000 non-null  float64\n",
      " 27  actual_elapsed_time  9836 non-null   float64\n",
      " 28  air_time             9836 non-null   float64\n",
      " 29  distance             10000 non-null  float64\n",
      " 30  carrier_delay        10000 non-null  int64  \n",
      " 31  weather_delay        10000 non-null  int64  \n",
      " 32  nas_delay            10000 non-null  int64  \n",
      " 33  security_delay       10000 non-null  int64  \n",
      " 34  late_aircraft_delay  10000 non-null  int64  \n",
      "dtypes: float64(13), int64(13), object(9)\n",
      "memory usage: 2.7+ MB\n"
     ]
    }
   ],
   "source": [
    "df.info()"
   ]
  },
  {
   "cell_type": "code",
   "execution_count": 5,
   "id": "454cd801",
   "metadata": {},
   "outputs": [
    {
     "data": {
      "text/plain": [
       "year                      0\n",
       "month                     0\n",
       "day_of_month              0\n",
       "day_of_week               0\n",
       "fl_date                   0\n",
       "op_unique_carrier         0\n",
       "op_carrier_fl_num         0\n",
       "origin                    0\n",
       "origin_city_name          0\n",
       "origin_state_nm           0\n",
       "dest                      0\n",
       "dest_city_name            0\n",
       "dest_state_nm             0\n",
       "crs_dep_time              0\n",
       "dep_time                116\n",
       "dep_delay               116\n",
       "taxi_out                120\n",
       "wheels_off              120\n",
       "wheels_on               127\n",
       "taxi_in                 127\n",
       "crs_arr_time              0\n",
       "arr_time                127\n",
       "arr_delay               164\n",
       "cancelled                 0\n",
       "cancellation_code      9878\n",
       "diverted                  0\n",
       "crs_elapsed_time          0\n",
       "actual_elapsed_time     164\n",
       "air_time                164\n",
       "distance                  0\n",
       "carrier_delay             0\n",
       "weather_delay             0\n",
       "nas_delay                 0\n",
       "security_delay            0\n",
       "late_aircraft_delay       0\n",
       "dtype: int64"
      ]
     },
     "execution_count": 5,
     "metadata": {},
     "output_type": "execute_result"
    }
   ],
   "source": [
    "df.isnull().sum()"
   ]
  },
  {
   "cell_type": "markdown",
   "id": "9e4d0c59",
   "metadata": {},
   "source": [
    "Drop the nulls from the dataset:"
   ]
  },
  {
   "cell_type": "code",
   "execution_count": 6,
   "id": "5bd21bfc",
   "metadata": {},
   "outputs": [],
   "source": [
    "df_cleaned = df.fillna(0)\n"
   ]
  },
  {
   "cell_type": "code",
   "execution_count": 7,
   "id": "b8991958",
   "metadata": {},
   "outputs": [
    {
     "data": {
      "text/plain": [
       "year                   0\n",
       "month                  0\n",
       "day_of_month           0\n",
       "day_of_week            0\n",
       "fl_date                0\n",
       "op_unique_carrier      0\n",
       "op_carrier_fl_num      0\n",
       "origin                 0\n",
       "origin_city_name       0\n",
       "origin_state_nm        0\n",
       "dest                   0\n",
       "dest_city_name         0\n",
       "dest_state_nm          0\n",
       "crs_dep_time           0\n",
       "dep_time               0\n",
       "dep_delay              0\n",
       "taxi_out               0\n",
       "wheels_off             0\n",
       "wheels_on              0\n",
       "taxi_in                0\n",
       "crs_arr_time           0\n",
       "arr_time               0\n",
       "arr_delay              0\n",
       "cancelled              0\n",
       "cancellation_code      0\n",
       "diverted               0\n",
       "crs_elapsed_time       0\n",
       "actual_elapsed_time    0\n",
       "air_time               0\n",
       "distance               0\n",
       "carrier_delay          0\n",
       "weather_delay          0\n",
       "nas_delay              0\n",
       "security_delay         0\n",
       "late_aircraft_delay    0\n",
       "dtype: int64"
      ]
     },
     "execution_count": 7,
     "metadata": {},
     "output_type": "execute_result"
    }
   ],
   "source": [
    "df_cleaned.isnull().sum()"
   ]
  },
  {
   "cell_type": "code",
   "execution_count": 8,
   "id": "6bcd51e8",
   "metadata": {},
   "outputs": [
    {
     "data": {
      "text/plain": [
       "(10000, 35)"
      ]
     },
     "execution_count": 8,
     "metadata": {},
     "output_type": "execute_result"
    }
   ],
   "source": [
    "df_cleaned.shape"
   ]
  },
  {
   "cell_type": "markdown",
   "id": "edaeda07",
   "metadata": {},
   "source": [
    "Find the mean of the 'ARRIVAL_DELAY' by day of the week in minutes:"
   ]
  },
  {
   "cell_type": "code",
   "execution_count": 9,
   "id": "21f65463",
   "metadata": {},
   "outputs": [
    {
     "name": "stdout",
     "output_type": "stream",
     "text": [
      "   day_of_week  arr_delay\n",
      "0            1   6.320051\n",
      "1            2   3.039286\n",
      "2            3   4.560182\n",
      "3            4   8.710696\n",
      "4            5   9.820671\n",
      "5            6   9.410769\n",
      "6            7   9.928369\n"
     ]
    }
   ],
   "source": [
    "df_delayed_mean = df_cleaned.groupby('day_of_week')['arr_delay'].mean().reset_index()\n",
    "print(df_delayed_mean)"
   ]
  },
  {
   "cell_type": "markdown",
   "id": "6aa541a1",
   "metadata": {},
   "source": [
    "# ANOVA (Analysis of Variance)\n",
    "Purpose:\n",
    "ANOVA tests whether the means of several groups are equal.\n",
    "\n",
    "Null hypothesis (H₀): The mean arrival delay is the same across all days of the week.\n",
    "\n",
    "Alternative hypothesis (H₁): At least one day has a different mean arrival delay."
   ]
  },
  {
   "cell_type": "code",
   "execution_count": 10,
   "id": "0472ce7c",
   "metadata": {},
   "outputs": [
    {
     "name": "stdout",
     "output_type": "stream",
     "text": [
      "F-statistic: 3.5184680508912796, p-value: 0.0017655190007334887\n"
     ]
    }
   ],
   "source": [
    "# Assume you have raw delays not just means, group them by day_of_week:\n",
    "grouped_delays = [df_cleaned[df_cleaned['day_of_week'] == day]['arr_delay'] for day in df_cleaned['day_of_week'].unique()]\n",
    "\n",
    "# One-way ANOVA\n",
    "f_stat, p_value = f_oneway(*grouped_delays)\n",
    "print(f\"F-statistic: {f_stat}, p-value: {p_value}\")"
   ]
  },
  {
   "cell_type": "markdown",
   "id": "8c70f22b",
   "metadata": {},
   "source": [
    "p-value < 0.05, therefore we reject H₀: at least one group mean is significantly different."
   ]
  },
  {
   "cell_type": "markdown",
   "id": "0467f6bc",
   "metadata": {},
   "source": [
    "# t-test\n",
    "Purpose:\n",
    "A t-test compares the means of two groups. Example: Compare mean delays for weekdays vs. weekends."
   ]
  },
  {
   "cell_type": "code",
   "execution_count": 11,
   "id": "a49ac27c",
   "metadata": {},
   "outputs": [
    {
     "name": "stdout",
     "output_type": "stream",
     "text": [
      "T-statistic: -2.4887031779056694, p-value: 0.012837141376664533\n"
     ]
    }
   ],
   "source": [
    "weekdays = df_cleaned[df_cleaned['day_of_week'].isin([1, 2, 3, 4, 5])]['arr_delay']\n",
    "weekends = df_cleaned[df_cleaned['day_of_week'].isin([6, 7])]['arr_delay']\n",
    "\n",
    "# Independent t-test\n",
    "t_stat, p_value = ttest_ind(weekdays, weekends)\n",
    "print(f\"T-statistic: {t_stat}, p-value: {p_value}\")"
   ]
  },
  {
   "cell_type": "markdown",
   "id": "535af852",
   "metadata": {},
   "source": [
    "p-value < 0.05, therefore we reject H₀: there is a significant difference in mean delays between weekdays and weekends."
   ]
  },
  {
   "cell_type": "markdown",
   "id": "4f240c8b",
   "metadata": {},
   "source": [
    "## Key Points on Interpreting Results\n",
    "p-value: The probability that observed differences are due to chance.\n",
    "\n",
    "Threshold (α): Commonly 0.05.\n",
    "\n",
    "Reject H₀: If p-value < α, the difference is statistically significant.\n",
    "\n",
    "Fail to Reject H₀: If p-value ≥ α, you don’t have enough evidence for a difference."
   ]
  }
 ],
 "metadata": {
  "kernelspec": {
   "display_name": ".venv",
   "language": "python",
   "name": "python3"
  },
  "language_info": {
   "codemirror_mode": {
    "name": "ipython",
    "version": 3
   },
   "file_extension": ".py",
   "mimetype": "text/x-python",
   "name": "python",
   "nbconvert_exporter": "python",
   "pygments_lexer": "ipython3",
   "version": "3.13.3"
  }
 },
 "nbformat": 4,
 "nbformat_minor": 5
}
